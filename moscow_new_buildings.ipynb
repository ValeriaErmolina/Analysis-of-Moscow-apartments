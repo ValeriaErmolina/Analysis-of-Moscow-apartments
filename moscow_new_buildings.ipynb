{
 "cells": [
  {
   "cell_type": "markdown",
   "source": [
    "Подключаем необходимые библиотеки\n"
   ],
   "metadata": {
    "collapsed": false
   }
  },
  {
   "cell_type": "code",
   "execution_count": null,
   "outputs": [],
   "source": [
    "import xgboost as xgb\n",
    "import pandas as pd\n",
    "import numpy as np\n",
    "from sklearn.metrics import mean_absolute_error, r2_score, median_absolute_error\n",
    "from sklearn.model_selection import train_test_split\n",
    "from sklearn.ensemble import RandomForestRegressor\n",
    "from sklearn.preprocessing import LabelEncoder\n",
    "import matplotlib.pyplot as plt\n",
    "%matplotlib inline\n",
    "%config InlineBackend.figure_format = 'retina' \n",
    "import warnings\n",
    "warnings.filterwarnings('ignore')\n"
   ],
   "metadata": {
    "collapsed": false,
    "pycharm": {
     "name": "#%%\n"
    }
   }
  },
  {
   "cell_type": "markdown",
   "source": [
    "Объявляем функции\n"
   ],
   "metadata": {
    "collapsed": false
   }
  },
  {
   "cell_type": "code",
   "execution_count": null,
   "outputs": [],
   "source": [
    "#Вычисляет среднюю абсолютную процентную ошибку\n",
    "def mean_absolute_percentage_error(y_true, y_pred): \n",
    "    y_true, y_pred = np.array(y_true), np.array(y_pred)\n",
    "    return np.mean(np.abs((y_true - y_pred) / y_true)) * 100\n",
    "\n",
    "#Вычисляет медианную абсолютную процентную ошибку\n",
    "def median_absolute_percentage_error(y_true, y_pred): \n",
    "    y_true, y_pred = np.array(y_true), np.array(y_pred)\n",
    "    return np.median(np.abs((y_true - y_pred) / y_true)) * 100\n",
    "\n",
    "#Печатает рассчитанные значения коэффициента детерминации, средней и медианной абсолютных ошибок\n",
    "def print_metrics(prediction, val_y):\n",
    "    val_mae = mean_absolute_error(val_y, prediction)\n",
    "    median_AE = median_absolute_error(val_y, prediction)\n",
    "    r2 = r2_score(val_y, prediction)\n",
    "\n",
    "    print('')\n",
    "    print('R\\u00b2: {:.2}'.format(r2))\n",
    "    print('')\n",
    "    print('Средняя абсолютная ошибка: {:.3} %'.format(mean_absolute_percentage_error(val_y, prediction)))\n",
    "    print('Медианная абсолютная ошибка: {:.3} %'.format(median_absolute_percentage_error(val_y, prediction)))\n"
   ],
   "metadata": {
    "collapsed": false,
    "pycharm": {
     "name": "#%%\n"
    }
   }
  },
  {
   "cell_type": "markdown",
   "source": [
    "Загружаем датасет и делаем первичную обработку\n"
   ],
   "metadata": {
    "collapsed": false,
    "pycharm": {
     "name": "#%% md\n"
    }
   }
  },
  {
   "cell_type": "code",
   "execution_count": null,
   "outputs": [],
   "source": [
    "#При помощи библиотеки pandas считываем csv-файл и преобразуем его в формат датафрейма (таблицы)\n",
    "file_path = 'https://raw.githubusercontent.com/ValeriaErmolina/Analysis-of-Moscow-apartments/master/moscow_apartments.csv'\n",
    "df = pd.read_csv(file_path)\n",
    "\n",
    "#Выводим 5 первых строк датафрейма\n",
    "df.head(5)"
   ],
   "metadata": {
    "collapsed": false,
    "pycharm": {
     "name": "#%%\n"
    }
   }
  },
  {
   "cell_type": "code",
   "execution_count": null,
   "outputs": [],
   "source": [
    "#Создаем новый столбец Стоимость 1 кв.м путем построчного деления стоимостей квартир на их общие площади\n",
    "df['price_metr'] = df['price']/df['total_area']\n",
    "\n",
    "#Выводим сводную информацию о датафрейме и его столбцах (признаках)\n",
    "df.info()\n"
   ],
   "metadata": {
    "collapsed": false,
    "pycharm": {
     "name": "#%%\n"
    }
   }
  },
  {
   "cell_type": "code",
   "execution_count": null,
   "outputs": [],
   "source": [
    "#Вычисляем столбцы с категорийными признаками, затем заменяем их на числа\n",
    "categorical_columns = df.columns[df.dtypes == 'object']\n",
    "labelencoder = LabelEncoder()\n",
    "for column in categorical_columns:\n",
    "    df[column] = labelencoder.fit_transform(df[column])\n",
    "    print(dict(enumerate(labelencoder.classes_)))\n",
    "\n",
    "#Выводим сводную информацию о датафрейме и его столбцах (признаках), чтобы убедиться, что теперь они все содержат цифровые значения\n",
    "df.info()\n"
   ],
   "metadata": {
    "collapsed": false,
    "pycharm": {
     "name": "#%%\n"
    }
   }
  },
  {
   "cell_type": "markdown",
   "source": [
    "Создаем целевую переменную, делим датасет на выборки\n",
    "\n"
   ],
   "metadata": {
    "collapsed": false
   }
  },
  {
   "cell_type": "code",
   "execution_count": null,
   "outputs": [],
   "source": [
    "#Назначаем целевой переменной цену 1 кв. метра, а можно и цену всей квартиры, тогда будет y = df['price']\n",
    "y = df['price_metr']\n",
    "\n",
    "#Создаем список признаков, на основании которых будем строить модели\n",
    "features = [\n",
    "            'floors_in_the_house', \n",
    "            'floor', \n",
    "            'house_type', \n",
    "            'number_of_rooms', \n",
    "            'total_area',\n",
    "            'deadline',\n",
    "            'distance_to_nearest_metro',\n",
    "            'distance_to_center',\n",
    "            'distance_to_mkad',\n",
    "            'distance_to_green_areas',\n",
    "            'distance_to_sports_complexes',\n",
    "            'distance_to_industrial_enterprises',\n",
    "            'distance_to_treatment_facilities'\n",
    "           ]\n",
    "\n",
    "#Создаем датафрейм, состоящий из признаков, выбранных ранее\n",
    "X = df[features]\n",
    "\n",
    "#Проводим случайное разбиение данных на выборки для обучения (train) и валидации (val), по умолчанию в пропорции 0.75/0.25\n",
    "train_X, val_X, train_y, val_y = train_test_split(X, y, random_state=1)\n"
   ],
   "metadata": {
    "collapsed": false,
    "pycharm": {
     "name": "#%%\n"
    }
   }
  },
  {
   "cell_type": "markdown",
   "source": [
    "Модель Random forest\n"
   ],
   "metadata": {
    "collapsed": false
   }
  },
  {
   "cell_type": "code",
   "execution_count": null,
   "outputs": [],
   "source": [
    "#Создаем регрессионную модель случайного леса \n",
    "rf_model = RandomForestRegressor(n_estimators=2000, \n",
    "                                 n_jobs=-1,  \n",
    "                                 bootstrap=False,\n",
    "                                 criterion='mse',\n",
    "                                 max_features=3,\n",
    "                                 random_state=1,\n",
    "                                 max_depth=55,\n",
    "                                 min_samples_split=5\n",
    "                                 )\n",
    "\n",
    "#Проводим подгонку модели на обучающей выборке \n",
    "rf_model.fit(train_X, train_y)\n",
    "\n",
    "#Вычисляем предсказанные значения цен на основе валидационной выборки\n",
    "rf_prediction = rf_model.predict(val_X).round(0)\n",
    "\n",
    "#Вычисляем и печатаем величины ошибок при сравнении известных цен квартир из валидационной выборки с предсказанными моделью\n",
    "print_metrics(rf_prediction, val_y)\n"
   ],
   "metadata": {
    "collapsed": false,
    "pycharm": {
     "name": "#%%\n"
    }
   }
  },
  {
   "cell_type": "markdown",
   "source": [
    "Модель XGBoost\n"
   ],
   "metadata": {
    "collapsed": false
   }
  },
  {
   "cell_type": "code",
   "execution_count": null,
   "outputs": [],
   "source": [
    "#Создаем регрессионную модель XGBoost\n",
    "xgb_model = xgb.XGBRegressor(objective ='reg:gamma', \n",
    "                             learning_rate = 0.01,\n",
    "                             max_depth = 45, \n",
    "                             n_estimators = 2000,\n",
    "                             nthread = -1,\n",
    "                             eval_metric = 'gamma-nloglik', \n",
    "                             )\n",
    "\n",
    "#Проводим подгонку модели на обучающей выборке \n",
    "xgb_model.fit(train_X, train_y)\n",
    "\n",
    "#Вычисляем предсказанные значения цен на основе валидационной выборки\n",
    "xgb_prediction = xgb_model.predict(val_X).round(0)\n",
    "\n",
    "#Вычисляем и печатаем величины ошибок при сравнении известных цен квартир из валидационной выборки с предсказанными моделью\n",
    "print_metrics(xgb_prediction, val_y)\n"
   ],
   "metadata": {
    "collapsed": false,
    "pycharm": {
     "name": "#%%\n"
    }
   }
  },
  {
   "cell_type": "markdown",
   "source": [
    "Усреднение предсказаний моделей\n",
    "\n"
   ],
   "metadata": {
    "collapsed": false
   }
  },
  {
   "cell_type": "code",
   "execution_count": null,
   "outputs": [],
   "source": [
    "#Усредняем предсказания обоих моделей\n",
    "prediction = rf_prediction * 0.5 + xgb_prediction * 0.5 \n",
    "\n",
    "#Вычисляем и печатаем величины ошибок для усредненного предсказания\n",
    "print_metrics(prediction, val_y)\n"
   ],
   "metadata": {
    "collapsed": false,
    "pycharm": {
     "name": "#%%\n"
    }
   }
  },
  {
   "cell_type": "markdown",
   "source": [
    "Изучаем важность признаков в модели Random forest\n"
   ],
   "metadata": {
    "collapsed": false
   }
  },
  {
   "cell_type": "code",
   "execution_count": null,
   "outputs": [],
   "source": [
    "#Рассчитываем важность признаков в модели Random forest\n",
    "importances = rf_model.feature_importances_\n",
    "std = np.std([tree.feature_importances_ for tree in rf_model.estimators_],\n",
    "             axis=0)\n",
    "indices = np.argsort(importances)[::-1]\n",
    "\n",
    "#Печатаем рейтинг признаков\n",
    "print(\"Рейтинг важности признаков:\")\n",
    "for f in range(X.shape[1]):\n",
    "    print(\"%d. %s (%f)\" % (f + 1, features[indices[f]], importances[indices[f]]))\n",
    "\n",
    "#Строим столбчатую диаграмму важности признаков\n",
    "plt.figure()\n",
    "plt.title(\"Важность признаков\")\n",
    "plt.bar(range(X.shape[1]), importances[indices], color=\"g\", yerr=std[indices], align=\"center\")\n",
    "plt.xticks(range(X.shape[1]), indices)\n",
    "plt.xlim([-1, X.shape[1]])\n",
    "plt.show()\n"
   ],
   "metadata": {
    "collapsed": false,
    "pycharm": {
     "name": "#%%\n"
    }
   }
  },
  {
   "cell_type": "code",
   "execution_count": null,
   "outputs": [],
   "source": [
    "file_flats_path = 'https://raw.githubusercontent.com/ValeriaErmolina/Analysis-of-Moscow-apartments/master/test.csv'\n",
    "flats = pd.read_csv(file_flats_path)\n",
    "flats.head(5)\n",
    "for column in categorical_columns:\n",
    "    flats[column] = labelencoder.fit_transform(flats[column])\n",
    "flats_data_for_prediction = flats.drop('price', axis=1)\n",
    "\n",
    "rf_price_metr = rf_model.predict(flats_data_for_prediction)\n",
    "xgb_price_metr = xgb_model.predict(flats_data_for_prediction)\n",
    "price_metr = rf_price_metr * 0.5 + xgb_price_metr * 0.5\n",
    "\n",
    "flats = flats.drop('floors_in_the_house', axis=1)\n",
    "flats = flats.drop('floor', axis=1)\n",
    "flats = flats.drop('house_type', axis=1)\n",
    "flats = flats.drop('number_of_rooms', axis=1)\n",
    "flats = flats.drop('deadline', axis=1)\n",
    "flats = flats.drop('distance_to_nearest_metro', axis=1)\n",
    "flats = flats.drop('distance_to_center', axis=1)\n",
    "flats = flats.drop('distance_to_mkad', axis=1)\n",
    "flats = flats.drop('distance_to_green_areas', axis=1)\n",
    "flats = flats.drop('distance_to_sports_complexes', axis=1)\n",
    "flats = flats.drop('distance_to_industrial_enterprises', axis=1)\n",
    "flats = flats.drop('distance_to_treatment_facilities', axis=1)\n",
    "flats['price_prediction'] = ((price_metr * flats['total_area']).round(-1)).astype(int)\n",
    "flats = flats.drop('total_area', axis=1)\n",
    "flats['mistake'] = np.abs(flats['price_prediction'] - flats['price'])\n",
    "flats['mistake_percentage'] = flats['mistake'] / flats['price']\n",
    "\n",
    "flats.head(20)\n",
    "\n"
   ],
   "metadata": {
    "collapsed": false,
    "pycharm": {
     "name": "#%%\n"
    }
   }
  }
 ],
 "metadata": {
  "language_info": {
   "codemirror_mode": {
    "name": "ipython",
    "version": 2
   },
   "file_extension": ".py",
   "mimetype": "text/x-python",
   "name": "python",
   "nbconvert_exporter": "python",
   "pygments_lexer": "ipython2",
   "version": "2.7.6"
  },
  "kernelspec": {
   "name": "pycharm-6747bfee",
   "language": "python",
   "display_name": "PyCharm (Analysis-of-Moscow-apartments)"
  },
  "pycharm": {
   "stem_cell": {
    "cell_type": "raw",
    "source": [],
    "metadata": {
     "collapsed": false
    }
   }
  }
 },
 "nbformat": 4,
 "nbformat_minor": 0
}